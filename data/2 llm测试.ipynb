{
 "cells": [
  {
   "cell_type": "code",
   "execution_count": 7,
   "metadata": {},
   "outputs": [],
   "source": [
    "import os\n",
    "from dotenv import load_dotenv\n",
    "load_dotenv\n",
    "from langchain_openai import ChatOpenAI\n",
    "from langchain.callbacks.streaming_stdout import StreamingStdOutCallbackHandler\n",
    "from langchain.schema import AIMessage,SystemMessage,HumanMessage\n",
    "llm= ChatOpenAI(\n",
    "    model_name=\"chatglm3-6b\",\n",
    "    streaming=True, \n",
    "    callbacks=[StreamingStdOutCallbackHandler()],\n",
    "    openai_api_key=os.environ[\"OPENAI_API_KEY\"],\n",
    "    openai_api_base=os.environ[\"OPENAI_API_BASE\"]                \n",
    ")"
   ]
  },
  {
   "cell_type": "code",
   "execution_count": 8,
   "metadata": {},
   "outputs": [
    {
     "name": "stdout",
     "output_type": "stream",
     "text": [
      "\n",
      " 一部好的小说梗概应当包括以下几个部分：\n",
      "\n",
      "1. 故事背景：简要介绍故事的发生时间、地点和环境，让读者对故事的世界有一个基本的认识。\n",
      "\n",
      "2. 主要人物：介绍故事中的主角和其他重要角色，包括他们的性格特点、动机和目标，让读者对他们产生兴趣。\n",
      "\n",
      "3. 情节概述：概括故事的主要冲突和事件，包括起因、经过和结局，让读者了解故事的的基本框架。\n",
      "\n",
      "4. 主题与寓意：阐述故事所要表达的主题和寓意，以及作者希望通过故事传达的思想和价值观。\n",
      "\n",
      "5. 风格与语言特色：描述小说的写作风格，包括叙述方式、语言特点等，让读者感受故事的韵律和魅力。\n",
      "\n",
      "6. 创作灵感：讲述作者创作这部作品的过程和灵感来源，让读者更深入了解作品的背后。\n",
      "\n",
      "7. 作品评价：提供关于作品的评价和分析，包括文学价值、影响力和意义等，让读者对作品有更深入的认识。\n",
      "\n",
      "一个好的小说梗概应该能够吸引读者的注意力，让他们对作品产生浓厚的兴趣，同时也能帮助读者更好地理解和欣赏作品。"
     ]
    },
    {
     "data": {
      "text/plain": [
       "AIMessage(content='\\n 一部好的小说梗概应当包括以下几个部分：\\n\\n1. 故事背景：简要介绍故事的发生时间、地点和环境，让读者对故事的世界有一个基本的认识。\\n\\n2. 主要人物：介绍故事中的主角和其他重要角色，包括他们的性格特点、动机和目标，让读者对他们产生兴趣。\\n\\n3. 情节概述：概括故事的主要冲突和事件，包括起因、经过和结局，让读者了解故事的的基本框架。\\n\\n4. 主题与寓意：阐述故事所要表达的主题和寓意，以及作者希望通过故事传达的思想和价值观。\\n\\n5. 风格与语言特色：描述小说的写作风格，包括叙述方式、语言特点等，让读者感受故事的韵律和魅力。\\n\\n6. 创作灵感：讲述作者创作这部作品的过程和灵感来源，让读者更深入了解作品的背后。\\n\\n7. 作品评价：提供关于作品的评价和分析，包括文学价值、影响力和意义等，让读者对作品有更深入的认识。\\n\\n一个好的小说梗概应该能够吸引读者的注意力，让他们对作品产生浓厚的兴趣，同时也能帮助读者更好地理解和欣赏作品。', response_metadata={'finish_reason': 'stop'})"
      ]
     },
     "execution_count": 8,
     "metadata": {},
     "output_type": "execute_result"
    }
   ],
   "source": [
    "messages=[\n",
    "    SystemMessage(\n",
    "        content=\"your are a helpful assistant\"\n",
    "    ),\n",
    "    HumanMessage(\n",
    "        content=\"小说梗概应该由哪些组成？\"\n",
    "    )\n",
    "]\n",
    "llm(messages)"
   ]
  }
 ],
 "metadata": {
  "kernelspec": {
   "display_name": "base",
   "language": "python",
   "name": "python3"
  },
  "language_info": {
   "codemirror_mode": {
    "name": "ipython",
    "version": 3
   },
   "file_extension": ".py",
   "mimetype": "text/x-python",
   "name": "python",
   "nbconvert_exporter": "python",
   "pygments_lexer": "ipython3",
   "version": "3.11.4"
  }
 },
 "nbformat": 4,
 "nbformat_minor": 2
}
