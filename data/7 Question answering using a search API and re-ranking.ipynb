{
 "cells": [
  {
   "cell_type": "code",
   "execution_count": 13,
   "metadata": {},
   "outputs": [],
   "source": [
    "#pip install chromadb==0.5.3 因为chroma 0.5.4 version有报错AttributeError: 'Collection' object has no attribute 'model_fields'\n",
    "import os\n",
    "from dotenv import load_dotenv\n",
    "#加载 .env文件中的环境变量,保存在代码当前路径下\n",
    "load_dotenv()\n",
    "import openai\n",
    "from langchain_openai import OpenAI\n",
    "from langchain.schema import AIMessage,SystemMessage,HumanMessage\n",
    "from langchain_openai import ChatOpenAI\n",
    "from langchain_openai import OpenAIEmbeddings\n",
    "import json\n",
    "\n",
    "llm= ChatOpenAI(model_name=\"chatglm3-6b\",temperature=0.1)\n",
    "\n",
    "import chromadb\n",
    "from chromadb.utils import embedding_functions\n",
    "# 指定chromadb提供的embedding function使用openai接口能力\n",
    "bge_embeddings = embedding_functions.OpenAIEmbeddingFunction(\n",
    "    api_base=os.environ[\"OPENAI_API_BASE\"],\n",
    "    api_key=os.environ[\"OPENAI_API_KEY\"],\n",
    "    model_name=\"bge-large-zh-1.5\"\n",
    ")"
   ]
  },
  {
   "cell_type": "code",
   "execution_count": 14,
   "metadata": {},
   "outputs": [],
   "source": [
    "# Dependencies\n",
    "from datetime import date, timedelta  # date handling for fetching recent news\n",
    "from IPython.display import display  # for pretty printing need pip install IPython\n",
    "import json  # for parsing the JSON api responses and model outputs\n",
    "from numpy import dot  # for cosine similarity\n",
    "import requests  # for making the API requests\n",
    "from tqdm import tqdm  # for printing progress bars\n",
    "\n",
    "today = date.today()\n",
    "\n",
    "# Helper functions\n",
    "def json_gpt(input):\n",
    "    \n",
    "    messages=[\n",
    "        {\"role\": \"system\", \"content\": \"用JSON格式输出结果\"},\n",
    "        {\"role\": \"user\", \"content\": input},\n",
    "    ]\n",
    "    completion = llm.invoke(messages)\n",
    "    text = completion.content\n",
    "    parsed = json.loads(text)\n",
    "\n",
    "    return parsed"
   ]
  },
  {
   "cell_type": "code",
   "execution_count": 10,
   "metadata": {},
   "outputs": [
    {
     "data": {
      "text/plain": [
       "{'name': 'AI assistant', 'location': 'cyberspace'}"
      ]
     },
     "metadata": {},
     "output_type": "display_data"
    }
   ],
   "source": [
    "#测试，LLM输出JSON格式\n",
    "input=\"what's your name? and where are you from?\"\n",
    "r = json_gpt(input)\n",
    "display(r)"
   ]
  },
  {
   "cell_type": "code",
   "execution_count": 15,
   "metadata": {},
   "outputs": [],
   "source": [
    "# User asks a question\n",
    "USER_QUESTION = \"Who won the NBA championship? And who was the MVP? Tell me a bit about the last game.\""
   ]
  },
  {
   "cell_type": "code",
   "execution_count": 27,
   "metadata": {},
   "outputs": [
    {
     "data": {
      "text/plain": [
       "['Who won the NBA championship in 2022?',\n",
       " 'What was the final score of the 2022 NBA championship?',\n",
       " 'Which team won the 2022 NBA championship?',\n",
       " 'How did the 2022 NBA champion win?',\n",
       " 'What were some of the key moments in the 2022 NBA championship game?',\n",
       " 'Were there any upsets in the 2022 NBA championship?',\n",
       " 'Did any player from a specific team win the 2022 NBA championship?',\n",
       " 'How did the 2022 NBA MVP perform in the championship game?',\n",
       " 'Did any player from a specific team win the 2022 NBA MVP award?',\n",
       " 'What was the highlight of the 2022 NBA MVP presentation?',\n",
       " 'How did the 2022 NBA season affect the MVP race?',\n",
       " 'Was the 2022 NBA championship a record-breaking performance?',\n",
       " 'Did any other records break during the 2022 NBA championship?',\n",
       " 'Who won the NBA championship? And who was the MVP? Tell me a bit about the last game.']"
      ]
     },
     "execution_count": 27,
     "metadata": {},
     "output_type": "execute_result"
    }
   ],
   "source": [
    "QUERIES_INPUT = f\"\"\"\n",
    "Today's date is {today}.\n",
    "You have access to a search API that returns recent news articles.\n",
    "Generate an array of search queries that are relevant to this question.\n",
    "Use a variation of related keywords for the queries, trying to be as general as possible.\n",
    "Include as many queries as you can think of, including and excluding terms.\n",
    "For example, include queries like ['keyword_1 keyword_2', 'keyword_1', 'keyword_2'].\n",
    "Be creative. The more queries you include, the more likely you are to find relevant results.\n",
    "\n",
    "User question: {USER_QUESTION}\n",
    "\n",
    "Format: {{\"queries\": [\"query_1\", \"query_2\", \"query_3\"]}}\n",
    "\"\"\"\n",
    "\n",
    "queries = json_gpt(QUERIES_INPUT)[\"queries\"]\n",
    "\n",
    "# Let's include the original question as well for good measure\n",
    "queries.append(USER_QUESTION)\n",
    "\n",
    "queries"
   ]
  },
  {
   "cell_type": "code",
   "execution_count": 16,
   "metadata": {},
   "outputs": [],
   "source": [
    "from langchain_community.tools.wikipedia.tool import WikipediaQueryRun\n",
    "from langchain_community.utilities.wikipedia import WikipediaAPIWrapper\n",
    "from langchain.utilities.bing_search import BingSearchAPIWrapper\n",
    "from langchain_community.tools.bing_search.tool import BingSearchRun\n",
    "\n",
    "#创建langchain自带WIKI工具\n",
    "wiki_api_wrapper = WikipediaAPIWrapper(top_k_results=2, doc_content_chars_max=1000)\n",
    "Lookup_wiki = WikipediaQueryRun(api_wrapper=wiki_api_wrapper)\n",
    "\n",
    "#创建搜索工具\n",
    "bing_api_wrapper = BingSearchAPIWrapper(k=3)\n",
    "Bing_search = BingSearchRun(api_wrapper=bing_api_wrapper)"
   ]
  },
  {
   "cell_type": "code",
   "execution_count": 11,
   "metadata": {},
   "outputs": [
    {
     "name": "stdout",
     "output_type": "stream",
     "text": [
      "[{'snippet': '2018年，蔡徐<b>坤在</b>选秀节目《偶像练习生》里，以一段包含篮球的唱跳做为自我介绍，并且表示喜欢“唱、跳、rap、篮球”。 这段表演说不上精彩，也并不太糟糕，在当时没有引起任何关注，直到2019年春节蔡徐坤被选为首位NBA新春贺岁形象大使。', 'title': '5年了，我们为什么还没放过“鸡坤”？_澎湃号·湃客_澎湃新闻 ...', 'link': 'https://www.thepaper.cn/newsDetail_forward_23543004'}, {'snippet': '“<b>唱跳rap和篮球</b>”出自蔡徐坤，蔡徐坤在到场偶像训练生<b>的</b>时候自我介绍<b>是</b>“喜欢<b>唱跳</b>，<b>rap和篮球</b>”，原来挺正常<b>的</b>一句话，可是随着后来蔡徐坤因为一段打<b>篮球的</b>视频被全网黑，这句话现在也就充满了讽刺意味。', 'title': '蔡徐坤<b>唱跳rap和篮球是</b>什么梗？<b>唱跳rap篮球</b>什么意思？_网友', 'link': 'https://www.sohu.com/a/312636181_100261694'}, {'snippet': '三人组中玲花负责<b>唱</b>，曾毅负责<b>跳和rap</b>，徐静雨负责<b>篮球</b>——下次可以考虑一下哥哥？玩家们也发现，既然<b>唱跳rap篮球</b>都这么经典了,如果把普通<b>篮球</b>换成帅气<b>的</b>街篮，岂不<b>是</b>更嗨？', 'title': '玩了好几年<b>的</b>“<b>唱跳RAP篮球</b>”，真有人把它做成游戏了 ...', 'link': 'https://new.qq.com/rain/a/20240121A070RK00'}]\n"
     ]
    },
    {
     "data": {
      "text/plain": [
       "'2018年，蔡徐<b>坤在</b>选秀节目《偶像练习生》里，以一段包含篮球的唱跳做为自我介绍，并且表示喜欢“唱、跳、rap、篮球”。 这段表演说不上精彩，也并不太糟糕，在当时没有引起任何关注，直到2019年春节蔡徐坤被选为首位NBA新春贺岁形象大使。'"
      ]
     },
     "metadata": {},
     "output_type": "display_data"
    }
   ],
   "source": [
    "#测试，搜索接口\n",
    "r=(bing_api_wrapper.results(\"唱跳rap篮球的是谁？\", 3))\n",
    "print(r)\n",
    "display(r[0][\"snippet\"])"
   ]
  },
  {
   "cell_type": "code",
   "execution_count": 29,
   "metadata": {},
   "outputs": [
    {
     "name": "stderr",
     "output_type": "stream",
     "text": [
      "  0%|          | 0/14 [00:00<?, ?it/s]"
     ]
    },
    {
     "name": "stderr",
     "output_type": "stream",
     "text": [
      "100%|██████████| 3/3 [00:00<?, ?it/s]\n",
      "100%|██████████| 3/3 [00:00<?, ?it/s]1.10s/it]\n",
      "100%|██████████| 3/3 [00:00<00:00, 2543.54it/s]\n",
      "100%|██████████| 3/3 [00:00<?, ?it/s]1.20s/it]\n",
      "100%|██████████| 3/3 [00:00<?, ?it/s]1.18s/it]\n",
      "100%|██████████| 3/3 [00:00<?, ?it/s]1.16s/it]\n",
      "100%|██████████| 3/3 [00:00<?, ?it/s]1.14s/it]\n",
      "100%|██████████| 3/3 [00:00<?, ?it/s]1.14s/it]\n",
      "100%|██████████| 3/3 [00:00<00:00, 191.97it/s]\n",
      "100%|██████████| 3/3 [00:00<?, ?it/s]1.15s/it]\n",
      "100%|██████████| 3/3 [00:00<00:00, 3005.95it/s]\n",
      "100%|██████████| 3/3 [00:00<?, ?it/s] 1.12s/it]\n",
      "100%|██████████| 3/3 [00:00<?, ?it/s] 1.17s/it]\n",
      "100%|██████████| 3/3 [00:00<?, ?it/s] 1.18s/it]\n",
      "100%|██████████| 14/14 [00:16<00:00,  1.15s/it]"
     ]
    },
    {
     "name": "stdout",
     "output_type": "stream",
     "text": [
      "[{'snippet': '<b>The</b> <b>Golden</b> <b>State</b> <b>Warriors</b> have won the 2022 NBA Championship following tonight’s 103-90 victory over the Boston Celtics in Game 6 of the NBA Finals at TD Garden Arena in Boston, Mass. The...', 'title': 'Golden State Warriors Win <b>2022</b> <b>NBA</b> <b>Championship</b>', 'link': 'https://www.nba.com/warriors/news/warriors-2022-nba-champions-20220616'}, {'snippet': 'With the victory, <b>the</b> <b>Warriors</b> have secured the franchises 7th NBA title, passing the Chicago Bulls (6) for the 3rd most championships in NBA history. June 16, 2022', 'title': '<b>2022</b> <b>NBA</b> Finals | <b>NBA</b>.com', 'link': 'https://www.nba.com/playoffs/2022/the-finals'}, {'snippet': 'Led by 34 points from Stephen Curry, the Golden State Warriors defeated the Boston Celtics 103-90 on Thursday night to claim their fourth <b>NBA</b> <b>championship</b> in the last eight seasons.', 'title': 'Golden State Warriors win <b>NBA</b> <b>championship</b> with Game 6 victory over ...', 'link': 'https://www.cnn.com/2022/06/16/sport/nba-finals-2022-warriors-celtics-game-6/index.html'}, {'snippet': 'Celtics catch fire in 4th, stun Warriors in Game 1. Al Horford <b>scores</b> 26 points, including a career-high six 3-pointers, and Boston uses a 17-0 run in the 4th quarter to rally past Golden State...', 'title': '<b>2022</b> <b>NBA</b> Finals | <b>NBA</b>.com', 'link': 'https://www.nba.com/playoffs/2022/the-finals'}, {'snippet': 'The Golden State Warriors have won the <b>2022</b> <b>NBA</b> <b>Championship</b> following tonight’s 103-90 victory over the Boston Celtics in Game 6 of the <b>NBA</b> Finals at TD Garden Arena in Boston, Mass. The...', 'title': 'Golden State Warriors Win <b>2022</b> <b>NBA</b> <b>Championship</b> | <b>NBA</b>.com', 'link': 'https://www.nba.com/warriors/news/warriors-2022-nba-champions-20220616'}, {'snippet': 'After trailing by 15 points late in the third quarter, the Boston Celtics came roaring back, outscoring the Warriors 40-16 in the fourth quarter and stealing Game 1 <b>of the 2022</b> <b>NBA</b> Finals in...', 'title': 'Inside The Box <b>Score</b>: <b>2022</b> <b>NBA</b> Finals, Game 1 | <b>NBA</b>.com', 'link': 'https://www.nba.com/news/2022-nba-finals-inside-the-box-score-game-1'}, {'snippet': '<b>The</b> <b>Golden</b> <b>State</b> <b>Warriors</b> <b>have</b> won the 2022 NBA Championship following tonight’s 103-90 victory over the Boston Celtics in Game 6 of the NBA Finals at TD Garden Arena in Boston, Mass.', 'title': 'Golden State Warriors Win <b>2022</b> <b>NBA</b> <b>Championship</b> | <b>NBA</b>.com', 'link': 'https://www.nba.com/warriors/news/warriors-2022-nba-champions-20220616'}, {'snippet': 'CNN —. Led by 34 points from Stephen Curry, the Golden State Warriors defeated the Boston Celtics 103-90 on Thursday night to claim their fourth <b>NBA</b> <b>championship</b> in the last eight seasons.', 'title': 'Golden State Warriors win <b>NBA</b> <b>championship</b> with Game 6 victory over ...', 'link': 'https://www.cnn.com/2022/06/16/sport/nba-finals-2022-warriors-celtics-game-6/index.html'}, {'snippet': 'Mission Accomplished: <b>Warriors</b> Win 2022 NBA Championship. The Warriors finished off a 4-2 series victory over the Celtics with a 103-90 win in Boston in Game 6, securing the teams fourth...', 'title': '2021-22 <b>NBA</b> <b>Champions</b> | Golden State Warriors', 'link': 'https://www.nba.com/warriors/championship/2022'}, {'snippet': 'The Golden State Warriors have won <b>the 2022</b> <b>NBA</b> <b>Championship</b> following tonight’s 103-90 victory over the Boston Celtics in Game 6 of the <b>NBA</b> Finals at TD Garden Arena in Boston, Mass. The...', 'title': 'Golden State Warriors <b>Win</b> <b>2022</b> <b>NBA</b> <b>Championship</b>', 'link': 'https://www.nba.com/warriors/news/warriors-2022-nba-champions-20220616'}, {'snippet': 'BOSTON — There’s nothing really new about the latest <b>NBA</b> <b>champion</b>. The Golden State Warriors have been there and now done that — again. Not only is the Larry O’Brien <b>NBA</b> <b>Championship</b> Trophy...', 'title': '6 takeaways from the Warriors&#39; <b>2022</b> <b>NBA</b> Finals-clinching <b>win</b> ... - <b>NBA</b>.com', 'link': 'https://www.nba.com/news/6-takeaways-from-the-warriors-2022-nba-finals-clinching-win-over-the-celtics'}, {'snippet': 'Led by 34 points from Stephen Curry, the Golden State Warriors defeated the Boston Celtics 103-90 on Thursday night to claim their fourth <b>NBA</b> <b>championship</b> in the last eight seasons.', 'title': 'Golden State Warriors <b>win</b> <b>NBA</b> <b>championship</b> with Game 6 victory over ...', 'link': 'https://www.cnn.com/2022/06/16/sport/nba-finals-2022-warriors-celtics-game-6/index.html'}, {'snippet': 'In this ultra longform piece, check out the best plays and <b>moments</b> from the <b>2022</b> <b>NBA</b> Finals!', 'title': 'Every top <b>moment</b> from the <b>2022</b> <b>NBA</b> Finals | <b>NBA</b>.com', 'link': 'https://www.nba.com/watch/video/every-top-play-highlight-from-the-2022-nba-finals'}, {'snippet': 'Celtics fend off Warriors, take 2-1 series lead. Jayson Tatum and Jaylen Brown combine for 53 points as Boston withstands Golden State&#39;s 3rd-quarter rally and 31 from Steph Curry to win <b>Game</b> 3 of...', 'title': '<b>2022</b> <b>NBA</b> Finals | <b>NBA</b>.com', 'link': 'https://www.nba.com/playoffs/2022/the-finals'}, {'snippet': 'A star sixth man. A Luka stopper. A tantalizing new starter. And a Finals masterpiece. Here are the critical <b>moments</b> that brought a <b>championship</b> back to Golden State.', 'title': '<b>NBA</b> Finals <b>2022</b> - The seven <b>moments</b> that supercharged the return ... - ESPN', 'link': 'https://www.espn.com/nba/story/_/id/34104526/nba-finals-2022-seven-moments-supercharged-return-golden-state-warriors-dynasty'}, {'snippet': 'Instant observations and real-time tweets from Game 5 of the <b>2022</b> <b>NBA</b> Finals as it happened in San Francisco on Monday night. Brian Martin, for <b>NBA</b>.com. June 13, <b>2022</b> 10:39 PM. Game recap:...', 'title': '24 thoughts on Game 5 of <b>2022</b> <b>NBA</b> Finals | <b>NBA</b>.com', 'link': 'https://www.nba.com/news/24-thoughts-on-game-5-of-2022-nba-finals'}, {'snippet': 'Instant observations and real-time tweets from Game 5 of the <b>2022</b> <b>NBA</b> Finals as it happened in San Francisco on Monday night. Klay joins Curry, LeBron with 100 made Finals 3s', 'title': '5 takeaways from the Warriors&#39; Game 5 victory in <b>2022</b> <b>NBA</b> Finals', 'link': 'https://www.nba.com/news/5-takeaways-from-the-warriors-game-5-victory-in-2022-nba-finals'}, {'snippet': 'Celtics catch fire in 4th, stun Warriors in Game 1. Al Horford scores 26 points, including a career-high six 3-pointers, and Boston uses a 17-0 run in the 4th quarter to rally past Golden State in...', 'title': '<b>2022</b> <b>NBA</b> Finals | <b>NBA</b>.com', 'link': 'https://www.nba.com/playoffs/2022/the-finals'}, {'snippet': 'The <b>Golden</b> State Warriors have won the 2022 NBA Championship following tonight’s 103-90 victory over the Boston Celtics in Game 6 of the NBA Finals at TD Garden Arena in Boston, Mass. The...', 'title': 'Golden State Warriors <b>Win</b> <b>2022</b> <b>NBA</b> <b>Championship</b> | <b>NBA</b>.com', 'link': 'https://www.nba.com/warriors/news/warriors-2022-nba-champions-20220616'}, {'snippet': '5 takeaways from the Warriors&#39; Game 5 victory in <b>2022</b> <b>NBA</b> Finals. Andrew Wiggins steps up, Jaylen Brown steps back, and the Warriors are 1 step away from the title.', 'title': '5 takeaways from the Warriors&#39; Game 5 victory in <b>2022</b> <b>NBA</b> Finals', 'link': 'https://www.nba.com/news/5-takeaways-from-the-warriors-game-5-victory-in-2022-nba-finals'}, {'snippet': 'Stephen Curry is awarded <b>the 2022</b> Bill Russell <b>NBA</b> Finals Most Valuable <b>Player</b> award and shared his thoughts about the Golden State Warriors&#39; rise back to greatness', 'title': 'Stephen Curry stars as Warriors crowned <b>NBA</b> champions for <b>2022</b>; Golden ...', 'link': 'https://www.skysports.com/nba/news/36244/12635331/stephen-curry-stars-as-warriors-crowned-nba-champions-for-2022-golden-state-seals-fourth-title-in-eight-years-by-beating-boston-celtics'}, {'snippet': 'On Thursday night in Boston, Stephen Curry was crowned an <b>NBA</b> <b>champion</b> for the fourth time and took home his first Bill Russell <b>NBA</b> Finals Most Valuable Player award, adding the one missing...', 'title': '5 incredible stats from <b>2022</b> Bill Russell <b>NBA</b> Finals <b>MVP</b> Stephen Curry', 'link': 'https://www.nba.com/news/5-incredible-stats-from-2022-bill-russell-nba-finals-mvp-stephen-curry'}, {'snippet': 'Watch as Stephen Curry receives the Bill Russell <b>NBA</b> Finals <b>MVP</b> award in <b>the 2022</b> <b>NBA</b> Finals. With a salty home crowd lingering at TD Garden and booing in the background, the Warriors...', 'title': '<b>NBA</b> Finals <b>MVP</b> Ladder: Stephen Curry finishes at top as ... - <b>NBA</b>.com', 'link': 'https://www.nba.com/news/nba-finals-mvp-ladder-stephen-curry-finishes-at-top-as-warriors-take-title'}, {'snippet': 'Stephen Curry has been awarded <b>the 2022</b> Bill Russell <b>NBA</b> Finals Most Valuable Player award, the first time he’s been so honored to go along a pair of regular-season Kia <b>MVP</b> awards. Golden...', 'title': 'Stephen Curry wins <b>NBA</b> Finals <b>MVP</b> for 1st time in his career', 'link': 'https://www.nba.com/news/stephen-curry-wins-2022-bill-russell-nba-finals-mvp-award'}, {'snippet': '<b>NBA</b> Finals <b>MVP</b> Ladder: Stephen Curry finishes at top as Warriors take title Golden State&#39;s superstar puts in another memorable performance in a series-clinching <b>win</b> to secure the 1st Finals...', 'title': '<b>NBA</b> Finals <b>MVP</b> Ladder: Stephen Curry finishes at top as ... - <b>NBA</b>.com', 'link': 'https://www.nba.com/news/nba-finals-mvp-ladder-stephen-curry-finishes-at-top-as-warriors-take-title?%24web_only=true'}, {'snippet': 'Jokic has won the <b>NBA</b>&#39;s <b>MVP</b> <b>award</b> for a second consecutive year after averaging 27.1 points, 13.8 rebounds and 7.9 assists per game for a Nuggets <b>team</b> that won 48 games.', 'title': '<b>NBA</b> awards <b>2022</b>: Complete list of winners for <b>MVP</b>, Coach ... - NFL | <b>NBA</b>', 'link': 'https://www.sportingnews.com/in/nba/news/nba-awards-2022-complete-list-winners-mvp-coach-rookie-year-and-more/wgt7jnjnrfdxmmya5z2psdlg'}, {'snippet': 'Take a look back at every Kia <b>NBA</b> <b>MVP</b> <b>award</b> winner in league history. From <b>NBA</b>.com Staff. Updated on May 9, 2024 4:05 AM. &gt; <b>NBA</b> History: Awards. A year-by-year list of the Kia <b>NBA</b> Most...', 'title': '<b>NBA MVP Award Winners</b> | <b>NBA</b>.com', 'link': 'https://www.nba.com/news/history-mvp-award-winners'}, {'snippet': 'Ultimate <b>highlight</b> from Jokic&#39;s Kia <b>MVP</b> season. Relive some of the best plays and moments from back-to-back Kia <b>MVP</b> winner Nikola Jokic&#39;s 2021-22 season. May 11, <b>2022</b>. Inside the numbers...', 'title': '2021-22 Kia <b>NBA</b> <b>MVP</b>: Nikola Jokic | <b>NBA</b>.com', 'link': 'https://www.nba.com/kia-mvp/2022-nikola-jokic'}, {'snippet': 'Nikola Jokic has been named <b>MVP</b> of the 2021-22 <b>NBA</b> season, beating out finalists Joel Embiid and Giannis Antetokounmpo.', 'title': '<b>2022</b> <b>NBA</b> <b>MVP</b>: Full voting results and breakdown for Nikola Jokic over ...', 'link': 'https://www.sportingnews.com/us/nba/news/nba-mvp-results-breakdown-nikola-jokic-joel-embiid/lkiclha7fqnjzxkoquel8cf3'}, {'snippet': 'Latest performance: Giannis Antetokounmpo racked up 30 points, 13 rebounds, eight assists and two steals as the Bucks easily handled the Detroit Pistons in a 131-101 victory. The win leaves them a...', 'title': 'Kia <b>NBA</b> <b>MVP</b> Tracker: Latest performances from leading contenders', 'link': 'https://cdn.nba.com/news/kia-nba-mvp-tracker-2022'}, {'snippet': 'Jokic was certainly a worthy <b>MVP</b> winner, earning the honor for the second consecutive <b>season</b> by averaging 27.1 points, 13.8 rebounds and 7.9 assists to lead the Nuggets to a 48-34 record...', 'title': '<b>2022</b> <b>NBA</b> <b>MVP</b>: Full voting results and breakdown for Nikola Jokic over ...', 'link': 'https://www.sportingnews.com/us/nba/news/nba-mvp-results-breakdown-nikola-jokic-joel-embiid/lkiclha7fqnjzxkoquel8cf3'}, {'snippet': 'Antetokounmpo surrenders the top spot in this week’s Kia <b>Race</b> to <b>the MVP</b> Ladder, while Doncic surges to No. 1 in another shakeup of the top five, which adds reigning two-time <b>MVP</b> Nikola Jokic...', 'title': 'Kia <b>MVP</b> Ladder: Luka Doncic takes over No. 1 as Top 5 ... - <b>NBA</b>.com', 'link': 'https://www.nba.com/news/kia-mvp-ladder-nov-18-2022-edition'}, {'snippet': 'Jokic finishes the 2021-22 <b>season</b> at No. 1 in the Kia <b>Race</b> to <b>the MVP</b> Ladder, after producing a campaign even stronger than 2020-21, when he captured the Maurice Podoloff Trophy.', 'title': 'Kia <b>MVP</b> Ladder: Nikola Jokic finishes <b>season</b> at top in ... - <b>NBA</b>.com', 'link': 'https://www.nba.com/news/kia-mvp-ladder-april-15-edition'}, {'snippet': 'The Golden State Warriors have won the <b>2022</b> <b>NBA</b> <b>Championship</b> following tonight’s 103-90 victory over the Boston Celtics in Game 6 of the <b>NBA</b> Finals at TD Garden Arena in Boston, Mass. The...', 'title': 'Golden State Warriors Win <b>2022</b> <b>NBA</b> <b>Championship</b>', 'link': 'https://www.nba.com/warriors/news/warriors-2022-nba-champions-20220616'}, {'snippet': 'With the victory, the Warriors have secured the franchises 7th <b>NBA</b> title, passing the Chicago Bulls (6) for the 3rd most <b>championships</b> in <b>NBA</b> history. June 16, <b>2022</b>', 'title': '<b>2022</b> <b>NBA</b> Finals | <b>NBA</b>.com', 'link': 'https://www.nba.com/playoffs/2022/the-finals'}, {'snippet': 'Despite losing the coveted best athlete honor, Curry won best <b>record-breaking</b> <b>performance</b> and best <b>NBA</b> player at the <b>2022</b> ESPY Awards, ESPN&#39;s annual celebration for all things sports, held...', 'title': 'ESPYs <b>2022</b>: Steph Curry, Shohei Ohtani, Katie Ledecky are big winners', 'link': 'https://www.usatoday.com/story/sports/2022/07/20/2022-espy-awards-winners/10112820002/'}, {'snippet': '5 takeaways from the Warriors&#39; Game 5 victory in <b>2022</b> <b>NBA</b> Finals. Andrew Wiggins steps up, Jaylen Brown steps back, and the Warriors are 1 step away from the title. Shaun Powell. Archive.', 'title': '5 takeaways from the Warriors&#39; Game 5 victory in <b>2022</b> <b>NBA</b> Finals', 'link': 'https://www.nba.com/news/5-takeaways-from-the-warriors-game-5-victory-in-2022-nba-finals'}, {'snippet': 'On Thursday night in Boston, Stephen Curry was crowned an <b>NBA</b> <b>champion</b> for the fourth time and took home his first Bill Russell <b>NBA</b> Finals Most Valuable Player award, adding the one missing...', 'title': '5 incredible stats from <b>2022</b> Bill Russell <b>NBA</b> Finals MVP ... - <b>NBA</b>.com', 'link': 'https://www.nba.com/news/5-incredible-stats-from-2022-bill-russell-nba-finals-mvp-stephen-curry'}, {'snippet': 'BOSTON — There’s nothing really new about the latest <b>NBA</b> <b>champion</b>. The Golden State Warriors have been there and now done that — again. Not only is the Larry O’Brien <b>NBA</b> <b>Championship</b> Trophy...', 'title': '6 takeaways from the Warriors&#39; <b>2022</b> <b>NBA</b> Finals-clinching win over the ...', 'link': 'https://www.nba.com/news/6-takeaways-from-the-warriors-2022-nba-finals-clinching-win-over-the-celtics'}, {'snippet': 'That’s when two-time Kia <b>MVP</b> Nikola Jokic stepped up to embody the grit Denver needed down the stretch to capture the franchise’s first <b>championship</b> by way of a 94-89 triumph Monday against ...', 'title': 'Nikola Jokic adds <b>NBA</b> <b>championship</b>, Finals <b>MVP</b> to impressive resume', 'link': 'https://www.nba.com/news/finals-mvp-resume-nikola-jokic-2023'}, {'snippet': 'A year-by-year list of the Bill Russell <b>NBA</b> Finals <b>MVP</b> Award winners: YEAR PLAYER TEAM. 2023-24: Jaylen Brown, Boston Celtics. 2022-23: Nikola Jokic, Denver Nuggets. 2021-22: Stephen Curry,...', 'title': '<b>NBA</b> Finals <b>MVP</b> Award Winners | <b>NBA</b>.com', 'link': 'https://www.nba.com/news/history-finals-mvp-winners'}, {'snippet': 'Giannis Antetokounmpo erupts for 50 points as the Bucks close out the Suns 105-98 in <b>Game</b> 6 to win their first <b>NBA</b> <b>championship</b> since 1971.', 'title': '2021 <b>NBA</b> <b>Finals</b>: Suns vs. Bucks | <b>NBA</b>.com', 'link': 'https://www.nba.com/playoffs/2021/the-finals'}]\n",
      "Total number of results: 42\n",
      "Total number of results after remove duplicates: 26\n"
     ]
    },
    {
     "name": "stderr",
     "output_type": "stream",
     "text": [
      "\n"
     ]
    }
   ],
   "source": [
    "#将列表中的每个问题都到BING取三条结果\n",
    "from tqdm import tqdm\n",
    "results=[]\n",
    "\n",
    "for query in tqdm(queries):\n",
    "    result = bing_api_wrapper.results(query,3)\n",
    "    for r in tqdm(result):\n",
    "        results.append(r)\n",
    "\n",
    "print(results)\n",
    "print(\"Total number of results:\", len(results))\n",
    "\n",
    "# remove duplicates\n",
    "results = list({result[\"link\"]: result for result in results}.values())\n",
    "print(\"Total number of results after remove duplicates:\", len(results))"
   ]
  },
  {
   "cell_type": "code",
   "execution_count": 17,
   "metadata": {},
   "outputs": [],
   "source": [
    "#创建持久化数据库\n",
    "dbclient = chromadb.PersistentClient(path=\"d:\\\\chromadb\")"
   ]
  },
  {
   "cell_type": "code",
   "execution_count": 31,
   "metadata": {},
   "outputs": [],
   "source": [
    "#测试，如有需要，删除数据库里的实验用cellection，清除之前的实验内容\n",
    "dbclient.delete_collection(\"cosine_test\")"
   ]
  },
  {
   "cell_type": "code",
   "execution_count": 18,
   "metadata": {},
   "outputs": [],
   "source": [
    "#将文本块导入向量数据库的名称是“cos_collection”的collection\n",
    "cos_collection = dbclient.get_or_create_collection(name=\"cosine_test\", \n",
    "                                               metadata={\"hnsw:space\": \"cosine\"}, # l2 is the default\n",
    "                                               embedding_function=bge_embeddings) "
   ]
  },
  {
   "cell_type": "code",
   "execution_count": 19,
   "metadata": {},
   "outputs": [],
   "source": [
    "from langchain.text_splitter import RecursiveCharacterTextSplitter, CharacterTextSplitter\n",
    "\n",
    "text_splitter = RecursiveCharacterTextSplitter(\n",
    "    separators = ['\\n\\n','\\n','.'],\n",
    "    chunk_size=450,\n",
    "    chunk_overlap=50,\n",
    "    length_function=len,\n",
    "    is_separator_regex=False,\n",
    ")"
   ]
  },
  {
   "cell_type": "code",
   "execution_count": 34,
   "metadata": {},
   "outputs": [
    {
     "name": "stderr",
     "output_type": "stream",
     "text": [
      "  0%|          | 0/26 [00:00<?, ?it/s]"
     ]
    },
    {
     "name": "stderr",
     "output_type": "stream",
     "text": [
      "100%|██████████| 26/26 [05:39<00:00, 13.07s/it]\n"
     ]
    }
   ],
   "source": [
    "#依次把每个搜索结果中的link页面提取、切段并存入向量数据库\n",
    "#pip install beautifulsoup4 才能使用WebBaseLoader\n",
    "from langchain_community.document_loaders.web_base import WebBaseLoader\n",
    "\n",
    "i=0\n",
    "for result in tqdm(results):\n",
    "    try:\n",
    "        loader= WebBaseLoader(str(result['link']))\n",
    "    except:\n",
    "        continue\n",
    "    page_content= loader.load()\n",
    "    chunks = text_splitter.split_text(page_content[0].page_content)\n",
    "    for k in range(len(chunks)):\n",
    "        cos_collection.add(\n",
    "            documents=[chunks[k]],\n",
    "            metadatas=[{\"source\": USER_QUESTION}],\n",
    "            ids=[f\"{i:05}{k:05}\"]\n",
    "            )\n",
    "    i+=1"
   ]
  },
  {
   "cell_type": "code",
   "execution_count": 20,
   "metadata": {},
   "outputs": [
    {
     "name": "stderr",
     "output_type": "stream",
     "text": [
      "Add of existing embedding ID: 0001700000\n",
      "Add of existing embedding ID: 0001700001\n",
      "Add of existing embedding ID: 0001700002\n",
      "Add of existing embedding ID: 0001700003\n",
      "Add of existing embedding ID: 0001700004\n",
      "Add of existing embedding ID: 0001700005\n",
      "Add of existing embedding ID: 0001700006\n",
      "Add of existing embedding ID: 0001700007\n",
      "Add of existing embedding ID: 0001700008\n",
      "Add of existing embedding ID: 0001800000\n",
      "Add of existing embedding ID: 0001800001\n",
      "Add of existing embedding ID: 0001800002\n",
      "Add of existing embedding ID: 0001800003\n",
      "Add of existing embedding ID: 0001800004\n",
      "Add of existing embedding ID: 0001800005\n",
      "Add of existing embedding ID: 0001800006\n",
      "Add of existing embedding ID: 0001800007\n",
      "Add of existing embedding ID: 0001800008\n",
      "Add of existing embedding ID: 0001800009\n",
      "Add of existing embedding ID: 0001800010\n",
      "Add of existing embedding ID: 0001800011\n",
      "Add of existing embedding ID: 0001900000\n",
      "Add of existing embedding ID: 0002000000\n",
      "Add of existing embedding ID: 0002000001\n",
      "Add of existing embedding ID: 0002000002\n",
      "Add of existing embedding ID: 0002000003\n",
      "Add of existing embedding ID: 0002000004\n",
      "Add of existing embedding ID: 0002000005\n",
      "Add of existing embedding ID: 0002000006\n",
      "Add of existing embedding ID: 0002000007\n",
      "Add of existing embedding ID: 0002000008\n",
      "Add of existing embedding ID: 0002000009\n",
      "Add of existing embedding ID: 0002000010\n",
      "Add of existing embedding ID: 0002000011\n",
      "Add of existing embedding ID: 0002000012\n",
      "Add of existing embedding ID: 0002000013\n",
      "Add of existing embedding ID: 0002000014\n",
      "Add of existing embedding ID: 0002000015\n",
      "Add of existing embedding ID: 0002000016\n",
      "Add of existing embedding ID: 0002000017\n",
      "Add of existing embedding ID: 0002000018\n",
      "Add of existing embedding ID: 0002000019\n",
      "Add of existing embedding ID: 0002100000\n",
      "Add of existing embedding ID: 0002100001\n",
      "Add of existing embedding ID: 0002100002\n",
      "Add of existing embedding ID: 0002100003\n",
      "Add of existing embedding ID: 0002100004\n",
      "Add of existing embedding ID: 0002100005\n",
      "Add of existing embedding ID: 0002100006\n",
      "Add of existing embedding ID: 0002100007\n",
      "Add of existing embedding ID: 0002100008\n",
      "Add of existing embedding ID: 0002100009\n",
      "Add of existing embedding ID: 0002100010\n",
      "Add of existing embedding ID: 0002100011\n",
      "Add of existing embedding ID: 0002100012\n",
      "Add of existing embedding ID: 0002100013\n",
      "Add of existing embedding ID: 0002100014\n",
      "Add of existing embedding ID: 0002100015\n",
      "Add of existing embedding ID: 0002100016\n",
      "Add of existing embedding ID: 0002100017\n",
      "Add of existing embedding ID: 0002100018\n",
      "Add of existing embedding ID: 0002100019\n",
      "Add of existing embedding ID: 0002100020\n",
      "Add of existing embedding ID: 0002100021\n",
      "Add of existing embedding ID: 0002100022\n",
      "Add of existing embedding ID: 0002100023\n",
      "Add of existing embedding ID: 0002100024\n",
      "Add of existing embedding ID: 0002100025\n",
      "Add of existing embedding ID: 0002100026\n",
      "Add of existing embedding ID: 0002100027\n",
      "Add of existing embedding ID: 0002100028\n",
      "Add of existing embedding ID: 0002100029\n",
      "Add of existing embedding ID: 0002100030\n",
      "Add of existing embedding ID: 0002100031\n",
      "Add of existing embedding ID: 0002100032\n",
      "Add of existing embedding ID: 0002100033\n",
      "Add of existing embedding ID: 0002100034\n",
      "Add of existing embedding ID: 0002100035\n",
      "Add of existing embedding ID: 0002100036\n",
      "Add of existing embedding ID: 0002100037\n",
      "Add of existing embedding ID: 0002100038\n",
      "Add of existing embedding ID: 0002100039\n",
      "Add of existing embedding ID: 0002100040\n",
      "Add of existing embedding ID: 0002100041\n",
      "Add of existing embedding ID: 0002100042\n",
      "Add of existing embedding ID: 0002200000\n",
      "Add of existing embedding ID: 0002200001\n",
      "Add of existing embedding ID: 0002200002\n",
      "Add of existing embedding ID: 0002200003\n",
      "Add of existing embedding ID: 0002200004\n",
      "Add of existing embedding ID: 0002200005\n",
      "Add of existing embedding ID: 0002200006\n",
      "Add of existing embedding ID: 0002200007\n",
      "Add of existing embedding ID: 0002200008\n",
      "Add of existing embedding ID: 0002200009\n",
      "Add of existing embedding ID: 0002300000\n",
      "Add of existing embedding ID: 0002300001\n",
      "Add of existing embedding ID: 0002300002\n",
      "Add of existing embedding ID: 0002300003\n",
      "Add of existing embedding ID: 0002300004\n",
      "Add of existing embedding ID: 0002300005\n",
      "Add of existing embedding ID: 0002300006\n",
      "Add of existing embedding ID: 0002300007\n",
      "Add of existing embedding ID: 0002300008\n",
      "Add of existing embedding ID: 0002300009\n",
      "Add of existing embedding ID: 0002300010\n",
      "Add of existing embedding ID: 0002300011\n",
      "Add of existing embedding ID: 0002300012\n",
      "Add of existing embedding ID: 0002300013\n",
      "Add of existing embedding ID: 0002300014\n",
      "Add of existing embedding ID: 0002300015\n",
      "Add of existing embedding ID: 0002300016\n",
      "Add of existing embedding ID: 0002300017\n",
      "Add of existing embedding ID: 0002300018\n",
      "Add of existing embedding ID: 0002300019\n",
      "Add of existing embedding ID: 0002300020\n",
      "Add of existing embedding ID: 0002300021\n",
      "Add of existing embedding ID: 0002300022\n",
      "Add of existing embedding ID: 0002300023\n",
      "Add of existing embedding ID: 0002300024\n",
      "Add of existing embedding ID: 0002300025\n",
      "Add of existing embedding ID: 0002300026\n",
      "Add of existing embedding ID: 0002300027\n",
      "Add of existing embedding ID: 0002300028\n",
      "Add of existing embedding ID: 0002300029\n",
      "Add of existing embedding ID: 0002300030\n",
      "Add of existing embedding ID: 0002300031\n",
      "Add of existing embedding ID: 0002300032\n",
      "Add of existing embedding ID: 0002300033\n",
      "Add of existing embedding ID: 0002300034\n",
      "Add of existing embedding ID: 0002300035\n",
      "Add of existing embedding ID: 0002400000\n",
      "Add of existing embedding ID: 0002400001\n",
      "Add of existing embedding ID: 0002400002\n",
      "Add of existing embedding ID: 0002400003\n",
      "Add of existing embedding ID: 0002400004\n",
      "Add of existing embedding ID: 0002400005\n",
      "Add of existing embedding ID: 0002400006\n",
      "Add of existing embedding ID: 0002400007\n",
      "Add of existing embedding ID: 0002400008\n",
      "Add of existing embedding ID: 0002400009\n",
      "Add of existing embedding ID: 0002400010\n",
      "Add of existing embedding ID: 0002400011\n",
      "Add of existing embedding ID: 0002400012\n",
      "Add of existing embedding ID: 0002400013\n",
      "Add of existing embedding ID: 0002400014\n",
      "Add of existing embedding ID: 0002400015\n",
      "Add of existing embedding ID: 0002400016\n",
      "Add of existing embedding ID: 0002500000\n",
      "Add of existing embedding ID: 0002500001\n"
     ]
    }
   ],
   "source": [
    "#检索数据库\n",
    "retrieved_results=cos_collection.query(\n",
    "    query_texts=USER_QUESTION,\n",
    "    n_results=10\n",
    ")\n",
    "retrieved_documents=retrieved_results['documents'][0]"
   ]
  },
  {
   "cell_type": "code",
   "execution_count": 21,
   "metadata": {},
   "outputs": [
    {
     "name": "stdout",
     "output_type": "stream",
     "text": [
      "[\".Who will take home the league's highest individual accolades and what did they do to deserve the award?MORE: Watch the NBA playoffs on Sling TV (U.S\", 'Your first NBA Finals MVP Award does, too, man.\\nSo, enjoy it.\\nAnd now, the final Top 5 in our 2022 Race to the NBA Finals MVP Ladder:', 'Your first NBA Finals MVP Award does, too, man.\\nSo, enjoy it.\\nAnd now, the final Top 5 in our 2022 Race to the NBA Finals MVP Ladder:', 'Curry, who was in tears on the court after the final whistle, won NBA Finals MVP honors for the first time in his career.\\n    \\n\\n            â€œThis is what itâ€™s all about, playing for a championship and what weâ€™ve been through the last three years,â€� he said. â€œBeginning of the season, nobody thought weâ€™d be here except everybody on this court right now, and itâ€™s amazing. Very surreal, though.', 'Curry, who was in tears on the court after the final whistle, won NBA Finals MVP honors for the first time in his career.\\n    \\n\\n            â€œThis is what itâ€™s all about, playing for a championship and what weâ€™ve been through the last three years,â€� he said. â€œBeginning of the season, nobody thought weâ€™d be here except everybody on this court right now, and itâ€™s amazing. Very surreal, though.', 'Curry, who was in tears on the court after the final whistle, won NBA Finals MVP honors for the first time in his career.\\n    \\n\\n            â€œThis is what itâ€™s all about, playing for a championship and what weâ€™ve been through the last three years,â€� he said. â€œBeginning of the season, nobody thought weâ€™d be here except everybody on this court right now, and itâ€™s amazing. Very surreal, though.', 'NBA Finals: Led by MVP Steph Curry, Golden State Warriors win championship with Game 6 victory over Boston Celtics | CNN\\n\\n\\n\\n\\n\\n\\n\\n\\n\\n\\n\\n\\n\\n\\n\\n\\n\\n\\n\\n\\n\\n\\n\\n\\n\\n\\n\\n\\n\\n\\n\\n\\n\\n\\n\\n\\n\\n\\n\\n\\n\\n\\n\\n\\n\\n\\n\\n\\n\\n\\n\\n\\n\\n\\n\\n\\n\\n\\n\\n\\n\\n\\n\\n\\n\\n\\n\\n\\n\\n\\n\\n\\n\\n\\n\\n\\n\\n\\n\\n\\n\\n\\n\\n\\n\\n\\n\\n\\n\\n\\n\\n\\n\\n\\n\\n\\n\\n\\n\\n\\n\\n\\nCNN values your feedback\\n\\n\\n\\n\\n                                                        1. How relevant is this ad to you?', 'NBA Finals: Led by MVP Steph Curry, Golden State Warriors win championship with Game 6 victory over Boston Celtics | CNN\\n\\n\\n\\n\\n\\n\\n\\n\\n\\n\\n\\n\\n\\n\\n\\n\\n\\n\\n\\n\\n\\n\\n\\n\\n\\n\\n\\n\\n\\n\\n\\n\\n\\n\\n\\n\\n\\n\\n\\n\\n\\n\\n\\n\\n\\n\\n\\n\\n\\n\\n\\n\\n\\n\\n\\n\\n\\n\\n\\n\\n\\n\\n\\n\\n\\n\\n\\n\\n\\n\\n\\n\\n\\n\\n\\n\\n\\n\\n\\n\\n\\n\\n\\n\\n\\n\\n\\n\\n\\n\\n\\n\\n\\n\\n\\n\\n\\n\\n\\n\\n\\n\\nCNN values your feedback\\n\\n\\n\\n\\n                                                        1. How relevant is this ad to you?', 'As the Warriors celebrate their fourth championship in eight seasons, we take a closer look at the numbers Curry posted in his greatest Finals performance yet. Here are five numbers you need to know from the Finals MVP:\\n1. First player to average 30-5-5 and five made 3-pointers in NBA Finals', 'RelatedNBA MVP Award winnersTake a look back at every Kia NBA MVP award winner in league history.NBA Defensive Player of the Year Award winnersTake a look back at every Kia Defensive Player of the Year award winner in NBA history.NBA Rookie of the Year Award winnersTake a look back at every Kia Rookie of the Year award winner in NBA history']\n"
     ]
    }
   ],
   "source": [
    "print(retrieved_documents)\n",
    "retrieved_documents = [s.replace(\"\\n\", \" \") for s in retrieved_documents]"
   ]
  },
  {
   "cell_type": "code",
   "execution_count": 39,
   "metadata": {},
   "outputs": [
    {
     "name": "stdout",
     "output_type": "stream",
     "text": [
      "Who won the NBA championship? And who was the MVP? Tell me a bit about the last game. [\".Who will take home the league's highest individual accolades and what did they do to deserve the award?MORE: Watch the NBA playoffs on Sling TV (U.S\", 'Your first NBA Finals MVP Award does, too, man. So, enjoy it. And now, the final Top 5 in our 2022 Race to the NBA Finals MVP Ladder:', 'Your first NBA Finals MVP Award does, too, man. So, enjoy it. And now, the final Top 5 in our 2022 Race to the NBA Finals MVP Ladder:', 'Curry, who was in tears on the court after the final whistle, won NBA Finals MVP honors for the first time in his career.                   â€œThis is what itâ€™s all about, playing for a championship and what weâ€™ve been through the last three years,â€� he said. â€œBeginning of the season, nobody thought weâ€™d be here except everybody on this court right now, and itâ€™s amazing. Very surreal, though.', '“This was a historic run. I don’t know how you can say he’s not the best big man ever really. He’s one of the all-time best basketball players. I don’t care what anyone says. To be on this team, he makes it easy for the rest of us.”', 'NBA Finals: Led by MVP Steph Curry, Golden State Warriors win championship with Game 6 victory over Boston Celtics | CNN                                                                                                       CNN values your feedback                                                             1. How relevant is this ad to you?', 'As the Warriors celebrate their fourth championship in eight seasons, we take a closer look at the numbers Curry posted in his greatest Finals performance yet. Here are five numbers you need to know from the Finals MVP: 1. First player to average 30-5-5 and five made 3-pointers in NBA Finals', 'RelatedNBA MVP Award winnersTake a look back at every Kia NBA MVP award winner in league history.NBA Defensive Player of the Year Award winnersTake a look back at every Kia Defensive Player of the Year award winner in NBA history.NBA Rookie of the Year Award winnersTake a look back at every Kia Rookie of the Year award winner in NBA history', 'No longer. That’s over. Watch as Stephen Curry receives the Bill Russell NBA Finals MVP award in the 2022 NBA Finals. With a salty home crowd lingering at TD Garden and booing in the background, the Warriors giddily squeezed onto a black podium on the court, as NBA Deputy Commissioner Mark Tatum started the process of handing off the Larry O’Brien NBA Championship Trophy.', 'No longer. That’s over. Watch as Stephen Curry receives the Bill Russell NBA Finals MVP award in the 2022 NBA Finals. With a salty home crowd lingering at TD Garden and booing in the background, the Warriors giddily squeezed onto a black podium on the court, as NBA Deputy Commissioner Mark Tatum started the process of handing off the Larry O’Brien NBA Championship Trophy.']\n"
     ]
    }
   ],
   "source": [
    "print(USER_QUESTION, retrieved_documents)"
   ]
  },
  {
   "cell_type": "code",
   "execution_count": 22,
   "metadata": {},
   "outputs": [],
   "source": [
    "#定义用httpx链接rerank接口\n",
    "import httpx\n",
    "from pydantic.main import BaseModel\n",
    "\n",
    "RERANK_URL = \"{url}/bge_base_rerank\"\n",
    "url=RERANK_URL.format(url=os.environ[\"OPENAI_API_BASE\"])\n",
    "headers = {'Content-Type': 'application/json'}\n",
    "\n",
    "class QuerySuite(BaseModel):\n",
    "    query: str\n",
    "    passages: list[str]\n",
    "    top_k: int = 5\n",
    "\n",
    "def rerank(query_suite: QuerySuite):\n",
    "    r = httpx.post(url, headers=headers, json=query_suite)\n",
    "    print(r)\n",
    "    return r.json()"
   ]
  },
  {
   "cell_type": "code",
   "execution_count": 23,
   "metadata": {},
   "outputs": [
    {
     "name": "stdout",
     "output_type": "stream",
     "text": [
      "<Response [200 OK]>\n"
     ]
    }
   ],
   "source": [
    "#将检索结果重排名，取top5\n",
    "pairs = {'query':USER_QUESTION,'passages':retrieved_documents}\n",
    "rerank_results = rerank(pairs)"
   ]
  },
  {
   "cell_type": "code",
   "execution_count": 24,
   "metadata": {},
   "outputs": [
    {
     "name": "stdout",
     "output_type": "stream",
     "text": [
      "score:2.75 \n",
      " NBA Finals: Led by MVP Steph Curry, Golden State Warriors win championship with Game 6 victory over Boston Celtics | CNN                                                                                                       CNN values your feedback                                                             1. How relevant is this ad to you? \n",
      "\n",
      "\n",
      "score:-0.35498046875 \n",
      " Curry, who was in tears on the court after the final whistle, won NBA Finals MVP honors for the first time in his career.                   â€œThis is what itâ€™s all about, playing for a championship and what weâ€™ve been through the last three years,â€� he said. â€œBeginning of the season, nobody thought weâ€™d be here except everybody on this court right now, and itâ€™s amazing. Very surreal, though. \n",
      "\n",
      "\n",
      "score:-2.5 \n",
      " As the Warriors celebrate their fourth championship in eight seasons, we take a closer look at the numbers Curry posted in his greatest Finals performance yet. Here are five numbers you need to know from the Finals MVP: 1. First player to average 30-5-5 and five made 3-pointers in NBA Finals \n",
      "\n",
      "\n",
      "score:-6.28515625 \n",
      " Your first NBA Finals MVP Award does, too, man. So, enjoy it. And now, the final Top 5 in our 2022 Race to the NBA Finals MVP Ladder: \n",
      "\n",
      "\n",
      "score:-6.828125 \n",
      " .Who will take home the league's highest individual accolades and what did they do to deserve the award?MORE: Watch the NBA playoffs on Sling TV (U.S \n",
      "\n",
      "\n"
     ]
    }
   ],
   "source": [
    "#打印top5结果\n",
    "formatted_top_results=[]\n",
    "\n",
    "for key, value in rerank_results.items():\n",
    "    print(f\"score:{value} \\n {key} \\n\\n\")\n",
    "    formatted_top_results.append(key)"
   ]
  },
  {
   "cell_type": "code",
   "execution_count": 25,
   "metadata": {},
   "outputs": [],
   "source": [
    "ANSWER_INPUT = f\"\"\"\n",
    "Generate an answer in Mandarin to the user's question based on the given search results. \n",
    "TOP_RESULTS: {formatted_top_results}\n",
    "USER_QUESTION: {USER_QUESTION}\n",
    "\n",
    "Include as much information as possible in the answer. \n",
    "\"\"\"\n",
    "messages=[{\"role\": \"user\", \"content\": ANSWER_INPUT}]\n",
    "completion = llm.invoke(\n",
    "    messages\n",
    ")\n",
    "\n",
    "answer=completion.content"
   ]
  },
  {
   "cell_type": "code",
   "execution_count": 26,
   "metadata": {},
   "outputs": [
    {
     "name": "stdout",
     "output_type": "stream",
     "text": [
      "根据搜索结果，金州勇士队赢得了NBA总冠军，这是他们在过去八个赛季中获得的第四个冠军。在总决赛中，史蒂芬·库里成为了最有价值球员（MVP）。他在总决赛中的表现非常出色，成为第一个在NBA总决赛中平均每场得分30分、篮板5个、助攻5次并投中5个三分球的球员。在赛后的新闻发布会上，库里表示这是他职业生涯中最有意义的荣誉，因为他和他的队友们为了这个冠军付出了很多努力。此外，我还了解到在比赛最后时刻，库里在场上流泪，这让他感到非常 surreal。\n"
     ]
    }
   ],
   "source": [
    "print(answer)"
   ]
  },
  {
   "cell_type": "code",
   "execution_count": 30,
   "metadata": {},
   "outputs": [
    {
     "name": "stdout",
     "output_type": "stream",
     "text": [
      "{'queries': ['谁赢得了最近的NBA总冠军？', '谁是最近NBA总决赛最有价值球员？', '关于NBA总决赛的最后一场比赛有什么细节？', 'NBA总决赛中史蒂芬·库里的表现如何？', '史蒂芬·库里在总决赛中的平均数据是多少？', '史蒂芬·库里在新闻发布会上说了什么？', '在比赛最后时刻，史蒂芬·库里在场上流泪的原因是什么？', '谁是史蒂芬·库里的队友？', '史蒂芬·库里在职业生涯中获得了哪些荣誉？', '史蒂芬·库里在总决赛中的关键时刻是什么？', '史蒂芬·库里在总决赛中的投篮表现如何？', '史蒂芬·库里在总决赛中的篮板表现如何？', '史蒂芬·库里在总决赛中的助攻表现如何？', '史蒂芬·库里在总决赛中的三分球表现如何？']}\n"
     ]
    }
   ],
   "source": [
    "ANSWER_INPUT = f\"\"\"\n",
    "Today's date is {today}.\n",
    "基于下面AI给出的答案，列出答案所包含的所有事实，推断一个富有好奇心的NBA观众会衍生出哪些追问，为这些追问生成尽量多用于搜索引擎检索的英文问句，不要重复下面已有用户问题中的内容。\n",
    "User question: {USER_QUESTION}\n",
    "AI Answer: {answer}\n",
    "\n",
    "Format: {{\"queries\": [\"query_1\", \"query_2\", \"query_3\"],...}}\n",
    "\"\"\"\n",
    "messages=[\n",
    "    {\"role\": \"system\", \"content\": \"用JSON格式输出结果\"},\n",
    "    {\"role\": \"user\", \"content\": ANSWER_INPUT}]\n",
    "completion = llm.invoke(\n",
    "    messages\n",
    ")\n",
    "queries=json.loads(completion.content)\n",
    "print(queries)"
   ]
  },
  {
   "cell_type": "code",
   "execution_count": 33,
   "metadata": {},
   "outputs": [
    {
     "name": "stderr",
     "output_type": "stream",
     "text": [
      "  0%|          | 0/14 [00:00<?, ?it/s]"
     ]
    },
    {
     "name": "stderr",
     "output_type": "stream",
     "text": [
      "Add of existing embedding ID: 0000500000\n",
      "Insert of existing embedding ID: 0000500000\n",
      "Add of existing embedding ID: 0000500001\n",
      "Insert of existing embedding ID: 0000500001\n",
      "Add of existing embedding ID: 0000500002\n",
      "Insert of existing embedding ID: 0000500002\n",
      "Add of existing embedding ID: 0000500003\n",
      "Insert of existing embedding ID: 0000500003\n",
      "Add of existing embedding ID: 0000600000\n",
      "Insert of existing embedding ID: 0000600000\n",
      "Add of existing embedding ID: 0000600001\n",
      "Insert of existing embedding ID: 0000600001\n",
      "Add of existing embedding ID: 0000700000\n",
      "Insert of existing embedding ID: 0000700000\n",
      "Add of existing embedding ID: 0000700001\n",
      "Insert of existing embedding ID: 0000700001\n",
      "Add of existing embedding ID: 0000700002\n",
      "Insert of existing embedding ID: 0000700002\n",
      "Add of existing embedding ID: 0000700003\n",
      "Insert of existing embedding ID: 0000700003\n",
      "Add of existing embedding ID: 0000700004\n",
      "Insert of existing embedding ID: 0000700004\n",
      "Add of existing embedding ID: 0000700005\n",
      "Insert of existing embedding ID: 0000700005\n",
      "Add of existing embedding ID: 0000700006\n",
      "Insert of existing embedding ID: 0000700006\n",
      "Add of existing embedding ID: 0000700007\n",
      "Insert of existing embedding ID: 0000700007\n",
      "Add of existing embedding ID: 0000700008\n",
      "Insert of existing embedding ID: 0000700008\n",
      "Add of existing embedding ID: 0000700009\n",
      "Insert of existing embedding ID: 0000700009\n",
      "Add of existing embedding ID: 0000700010\n",
      "Insert of existing embedding ID: 0000700010\n",
      "Add of existing embedding ID: 0000700011\n",
      "Insert of existing embedding ID: 0000700011\n",
      "Add of existing embedding ID: 0000700012\n",
      "Insert of existing embedding ID: 0000700012\n",
      "Add of existing embedding ID: 0000700013\n",
      "Insert of existing embedding ID: 0000700013\n",
      "Add of existing embedding ID: 0000700014\n",
      "Insert of existing embedding ID: 0000700014\n",
      "  7%|▋         | 1/14 [00:09<01:58,  9.11s/it]Add of existing embedding ID: 0000800000\n",
      "Insert of existing embedding ID: 0000800000\n",
      "Add of existing embedding ID: 0000800001\n",
      "Insert of existing embedding ID: 0000800001\n",
      "Add of existing embedding ID: 0000800002\n",
      "Insert of existing embedding ID: 0000800002\n",
      "Add of existing embedding ID: 0000800003\n",
      "Insert of existing embedding ID: 0000800003\n",
      "Add of existing embedding ID: 0000800004\n",
      "Insert of existing embedding ID: 0000800004\n",
      "Add of existing embedding ID: 0000800005\n",
      "Insert of existing embedding ID: 0000800005\n",
      "Add of existing embedding ID: 0000800006\n",
      "Insert of existing embedding ID: 0000800006\n",
      "Add of existing embedding ID: 0000800007\n",
      "Insert of existing embedding ID: 0000800007\n",
      "Add of existing embedding ID: 0000800008\n",
      "Insert of existing embedding ID: 0000800008\n",
      "Add of existing embedding ID: 0000800009\n",
      "Insert of existing embedding ID: 0000800009\n",
      "Add of existing embedding ID: 0000800010\n",
      "Insert of existing embedding ID: 0000800010\n",
      "Add of existing embedding ID: 0000800011\n",
      "Insert of existing embedding ID: 0000800011\n",
      "Add of existing embedding ID: 0000800012\n",
      "Insert of existing embedding ID: 0000800012\n",
      "Add of existing embedding ID: 0000800013\n",
      "Insert of existing embedding ID: 0000800013\n",
      "Add of existing embedding ID: 0000800014\n",
      "Insert of existing embedding ID: 0000800014\n",
      "Add of existing embedding ID: 0000900000\n",
      "Insert of existing embedding ID: 0000900000\n",
      "Add of existing embedding ID: 0001000000\n",
      "Insert of existing embedding ID: 0001000000\n",
      " 14%|█▍        | 2/14 [00:16<01:38,  8.20s/it]Add of existing embedding ID: 0001200000\n",
      "Insert of existing embedding ID: 0001200000\n",
      "Add of existing embedding ID: 0001200001\n",
      "Insert of existing embedding ID: 0001200001\n",
      "Add of existing embedding ID: 0001200002\n",
      "Insert of existing embedding ID: 0001200002\n",
      "Add of existing embedding ID: 0001200003\n",
      "Insert of existing embedding ID: 0001200003\n",
      "Add of existing embedding ID: 0001200004\n",
      "Insert of existing embedding ID: 0001200004\n",
      "Add of existing embedding ID: 0001200005\n",
      "Insert of existing embedding ID: 0001200005\n",
      "Add of existing embedding ID: 0001200006\n",
      "Insert of existing embedding ID: 0001200006\n",
      "Add of existing embedding ID: 0001200007\n",
      "Insert of existing embedding ID: 0001200007\n",
      "Add of existing embedding ID: 0001200008\n",
      "Insert of existing embedding ID: 0001200008\n",
      "Add of existing embedding ID: 0001200009\n",
      "Insert of existing embedding ID: 0001200009\n",
      "Add of existing embedding ID: 0001200010\n",
      "Insert of existing embedding ID: 0001200010\n",
      "Add of existing embedding ID: 0001200011\n",
      "Insert of existing embedding ID: 0001200011\n",
      "Add of existing embedding ID: 0001200012\n",
      "Insert of existing embedding ID: 0001200012\n",
      "Add of existing embedding ID: 0001200013\n",
      "Insert of existing embedding ID: 0001200013\n",
      "Add of existing embedding ID: 0001200014\n",
      "Insert of existing embedding ID: 0001200014\n",
      "Add of existing embedding ID: 0001200015\n",
      "Insert of existing embedding ID: 0001200015\n",
      "Add of existing embedding ID: 0001200016\n",
      "Insert of existing embedding ID: 0001200016\n",
      "Add of existing embedding ID: 0001200017\n",
      "Insert of existing embedding ID: 0001200017\n",
      "Add of existing embedding ID: 0001200018\n",
      "Insert of existing embedding ID: 0001200018\n",
      "Add of existing embedding ID: 0001200019\n",
      "Insert of existing embedding ID: 0001200019\n",
      "Add of existing embedding ID: 0001200020\n",
      "Insert of existing embedding ID: 0001200020\n",
      "Add of existing embedding ID: 0001200021\n",
      "Insert of existing embedding ID: 0001200021\n",
      "Add of existing embedding ID: 0001200022\n",
      "Insert of existing embedding ID: 0001200022\n",
      "Add of existing embedding ID: 0001300000\n",
      "Insert of existing embedding ID: 0001300000\n",
      "Add of existing embedding ID: 0001300001\n",
      "Insert of existing embedding ID: 0001300001\n",
      "Add of existing embedding ID: 0001300002\n",
      "Insert of existing embedding ID: 0001300002\n",
      "Add of existing embedding ID: 0001300003\n",
      "Insert of existing embedding ID: 0001300003\n",
      "Add of existing embedding ID: 0001300004\n",
      "Insert of existing embedding ID: 0001300004\n",
      "Add of existing embedding ID: 0001300005\n",
      "Insert of existing embedding ID: 0001300005\n",
      "Add of existing embedding ID: 0001300006\n",
      "Insert of existing embedding ID: 0001300006\n",
      "Add of existing embedding ID: 0001300007\n",
      "Insert of existing embedding ID: 0001300007\n",
      "Add of existing embedding ID: 0001300008\n",
      "Insert of existing embedding ID: 0001300008\n",
      "Add of existing embedding ID: 0001300009\n",
      "Insert of existing embedding ID: 0001300009\n",
      "Add of existing embedding ID: 0001300010\n",
      "Insert of existing embedding ID: 0001300010\n",
      "Add of existing embedding ID: 0001300011\n",
      "Insert of existing embedding ID: 0001300011\n",
      "Add of existing embedding ID: 0001300012\n",
      "Insert of existing embedding ID: 0001300012\n",
      "Add of existing embedding ID: 0001300013\n",
      "Insert of existing embedding ID: 0001300013\n",
      "Add of existing embedding ID: 0001300014\n",
      "Insert of existing embedding ID: 0001300014\n",
      "Add of existing embedding ID: 0001300015\n",
      "Insert of existing embedding ID: 0001300015\n",
      "Add of existing embedding ID: 0001300016\n",
      "Insert of existing embedding ID: 0001300016\n",
      "Add of existing embedding ID: 0001300017\n",
      "Insert of existing embedding ID: 0001300017\n",
      "Add of existing embedding ID: 0001300018\n",
      "Insert of existing embedding ID: 0001300018\n",
      "Add of existing embedding ID: 0001300019\n",
      "Insert of existing embedding ID: 0001300019\n",
      "Add of existing embedding ID: 0001300020\n",
      "Insert of existing embedding ID: 0001300020\n",
      "Add of existing embedding ID: 0001300021\n",
      "Insert of existing embedding ID: 0001300021\n",
      "Add of existing embedding ID: 0001300022\n",
      "Insert of existing embedding ID: 0001300022\n",
      "Add of existing embedding ID: 0001300023\n",
      "Insert of existing embedding ID: 0001300023\n",
      "Add of existing embedding ID: 0001300024\n",
      "Insert of existing embedding ID: 0001300024\n",
      " 21%|██▏       | 3/14 [00:34<02:20, 12.75s/it]Add of existing embedding ID: 0001400000\n",
      "Insert of existing embedding ID: 0001400000\n",
      "Add of existing embedding ID: 0001500000\n",
      "Insert of existing embedding ID: 0001500000\n",
      "Add of existing embedding ID: 0001600000\n",
      "Insert of existing embedding ID: 0001600000\n",
      "Add of existing embedding ID: 0001600001\n",
      "Insert of existing embedding ID: 0001600001\n",
      "Add of existing embedding ID: 0001600002\n",
      "Insert of existing embedding ID: 0001600002\n",
      "Add of existing embedding ID: 0001600003\n",
      "Insert of existing embedding ID: 0001600003\n",
      "Add of existing embedding ID: 0001600004\n",
      "Insert of existing embedding ID: 0001600004\n",
      "Add of existing embedding ID: 0001600005\n",
      "Insert of existing embedding ID: 0001600005\n",
      "Add of existing embedding ID: 0001600006\n",
      "Insert of existing embedding ID: 0001600006\n",
      "Add of existing embedding ID: 0001600007\n",
      "Insert of existing embedding ID: 0001600007\n",
      "Add of existing embedding ID: 0001600008\n",
      "Insert of existing embedding ID: 0001600008\n",
      " 29%|██▊       | 4/14 [00:39<01:36,  9.65s/it]Add of existing embedding ID: 0001700000\n",
      "Insert of existing embedding ID: 0001700000\n",
      "Add of existing embedding ID: 0001700001\n",
      "Insert of existing embedding ID: 0001700001\n",
      "Add of existing embedding ID: 0001700002\n",
      "Insert of existing embedding ID: 0001700002\n",
      "Add of existing embedding ID: 0001700003\n",
      "Insert of existing embedding ID: 0001700003\n",
      "Add of existing embedding ID: 0001800000\n",
      "Insert of existing embedding ID: 0001800000\n",
      "Add of existing embedding ID: 0001800001\n",
      "Insert of existing embedding ID: 0001800001\n",
      "Add of existing embedding ID: 0001800002\n",
      "Insert of existing embedding ID: 0001800002\n",
      "Add of existing embedding ID: 0001800003\n",
      "Insert of existing embedding ID: 0001800003\n",
      "Add of existing embedding ID: 0001800004\n",
      "Insert of existing embedding ID: 0001800004\n",
      "Add of existing embedding ID: 0001800005\n",
      "Insert of existing embedding ID: 0001800005\n",
      "Add of existing embedding ID: 0001800006\n",
      "Insert of existing embedding ID: 0001800006\n",
      "Add of existing embedding ID: 0001800007\n",
      "Insert of existing embedding ID: 0001800007\n",
      "Add of existing embedding ID: 0001800008\n",
      "Insert of existing embedding ID: 0001800008\n",
      "Add of existing embedding ID: 0001800009\n",
      "Insert of existing embedding ID: 0001800009\n",
      "Add of existing embedding ID: 0001800010\n",
      "Insert of existing embedding ID: 0001800010\n",
      "Add of existing embedding ID: 0001800011\n",
      "Insert of existing embedding ID: 0001800011\n",
      "Add of existing embedding ID: 0001800012\n",
      "Insert of existing embedding ID: 0001800012\n",
      "Add of existing embedding ID: 0001800013\n",
      "Insert of existing embedding ID: 0001800013\n",
      "Add of existing embedding ID: 0001800014\n",
      "Insert of existing embedding ID: 0001800014\n",
      "Add of existing embedding ID: 0001800015\n",
      "Insert of existing embedding ID: 0001800015\n",
      "Add of existing embedding ID: 0001800016\n",
      "Insert of existing embedding ID: 0001800016\n",
      "Add of existing embedding ID: 0001900000\n",
      "Insert of existing embedding ID: 0001900000\n",
      " 36%|███▌      | 5/14 [00:47<01:20,  8.96s/it]Add of existing embedding ID: 0002000000\n",
      "Insert of existing embedding ID: 0002000000\n",
      "Add of existing embedding ID: 0002100000\n",
      "Insert of existing embedding ID: 0002100000\n",
      "Add of existing embedding ID: 0002200000\n",
      "Insert of existing embedding ID: 0002200000\n",
      " 43%|████▎     | 6/14 [00:49<00:53,  6.71s/it]Add of existing embedding ID: 0002300000\n",
      "Insert of existing embedding ID: 0002300000\n",
      "Add of existing embedding ID: 0002400000\n",
      "Insert of existing embedding ID: 0002400000\n",
      "Add of existing embedding ID: 0002400001\n",
      "Insert of existing embedding ID: 0002400001\n",
      "Add of existing embedding ID: 0002400002\n",
      "Insert of existing embedding ID: 0002400002\n",
      "Add of existing embedding ID: 0002400003\n",
      "Insert of existing embedding ID: 0002400003\n",
      "Add of existing embedding ID: 0002400004\n",
      "Insert of existing embedding ID: 0002400004\n",
      "Add of existing embedding ID: 0002400005\n",
      "Insert of existing embedding ID: 0002400005\n",
      "Add of existing embedding ID: 0002500000\n",
      "Insert of existing embedding ID: 0002500000\n",
      " 50%|█████     | 7/14 [00:54<00:43,  6.20s/it]Add of existing embedding ID: 0002600000\n",
      "Insert of existing embedding ID: 0002600000\n",
      "Add of existing embedding ID: 0002700000\n",
      "Insert of existing embedding ID: 0002700000\n",
      "Add of existing embedding ID: 0002800000\n",
      "Insert of existing embedding ID: 0002800000\n",
      " 57%|█████▋    | 8/14 [00:57<00:30,  5.11s/it]Add of existing embedding ID: 0002900000\n",
      "Insert of existing embedding ID: 0002900000\n",
      "Add of existing embedding ID: 0002900001\n",
      "Insert of existing embedding ID: 0002900001\n",
      "Add of existing embedding ID: 0002900002\n",
      "Insert of existing embedding ID: 0002900002\n",
      "Add of existing embedding ID: 0002900003\n",
      "Insert of existing embedding ID: 0002900003\n",
      "Add of existing embedding ID: 0002900004\n",
      "Insert of existing embedding ID: 0002900004\n",
      "Add of existing embedding ID: 0002900005\n",
      "Insert of existing embedding ID: 0002900005\n",
      "Add of existing embedding ID: 0002900006\n",
      "Insert of existing embedding ID: 0002900006\n",
      "Add of existing embedding ID: 0002900007\n",
      "Insert of existing embedding ID: 0002900007\n",
      "Add of existing embedding ID: 0002900008\n",
      "Insert of existing embedding ID: 0002900008\n",
      "Add of existing embedding ID: 0002900009\n",
      "Insert of existing embedding ID: 0002900009\n",
      "Add of existing embedding ID: 0002900010\n",
      "Insert of existing embedding ID: 0002900010\n",
      "Add of existing embedding ID: 0002900011\n",
      "Insert of existing embedding ID: 0002900011\n",
      "Add of existing embedding ID: 0003000000\n",
      "Insert of existing embedding ID: 0003000000\n",
      "Add of existing embedding ID: 0003000001\n",
      "Insert of existing embedding ID: 0003000001\n",
      "Add of existing embedding ID: 0003000002\n",
      "Insert of existing embedding ID: 0003000002\n",
      "Add of existing embedding ID: 0003100000\n",
      "Insert of existing embedding ID: 0003100000\n",
      " 64%|██████▍   | 9/14 [02:24<02:32, 30.51s/it]Add of existing embedding ID: 0003200000\n",
      "Insert of existing embedding ID: 0003200000\n",
      "Add of existing embedding ID: 0003300000\n",
      "Insert of existing embedding ID: 0003300000\n",
      "Add of existing embedding ID: 0003300001\n",
      "Insert of existing embedding ID: 0003300001\n",
      "Add of existing embedding ID: 0003400000\n",
      "Insert of existing embedding ID: 0003400000\n",
      "100%|██████████| 14/14 [03:08<00:00, 13.43s/it]\n"
     ]
    }
   ],
   "source": [
    "#将列表中的每个问题都到BING取三条结果，并存入数据库和results数组。\n",
    "from tqdm import tqdm\n",
    "from langchain_community.document_loaders.web_base import WebBaseLoader\n",
    "results=[]\n",
    "i=5\n",
    "for query in tqdm(queries['queries']):\n",
    "    try:\n",
    "        result = bing_api_wrapper.results(query,3)\n",
    "    except:\n",
    "        continue\n",
    "    for r in result:\n",
    "        results.append(r)\n",
    "        loader= WebBaseLoader(str(r['link']))\n",
    "        page_content= loader.load()\n",
    "        chunks = text_splitter.split_text(page_content[0].page_content)\n",
    "        for k in range(len(chunks)):\n",
    "            cos_collection.add(\n",
    "                documents=[chunks[k]],\n",
    "                metadatas=[{\"source\": query}],\n",
    "                ids=[f\"{i:05}{k:05}\"]\n",
    "                )\n",
    "        i+=1\n"
   ]
  },
  {
   "cell_type": "code",
   "execution_count": 48,
   "metadata": {},
   "outputs": [
    {
     "name": "stderr",
     "output_type": "stream",
     "text": [
      "  0%|          | 0/14 [00:00<?, ?it/s]"
     ]
    },
    {
     "name": "stdout",
     "output_type": "stream",
     "text": [
      "<Response [200 OK]>\n"
     ]
    },
    {
     "name": "stderr",
     "output_type": "stream",
     "text": [
      "  7%|▋         | 1/14 [00:19<04:11, 19.33s/it]"
     ]
    },
    {
     "name": "stdout",
     "output_type": "stream",
     "text": [
      "<Response [200 OK]>\n"
     ]
    },
    {
     "name": "stderr",
     "output_type": "stream",
     "text": [
      " 14%|█▍        | 2/14 [00:29<02:44, 13.75s/it]"
     ]
    },
    {
     "name": "stdout",
     "output_type": "stream",
     "text": [
      "<Response [200 OK]>\n"
     ]
    },
    {
     "name": "stderr",
     "output_type": "stream",
     "text": [
      " 21%|██▏       | 3/14 [00:40<02:17, 12.51s/it]"
     ]
    },
    {
     "name": "stdout",
     "output_type": "stream",
     "text": [
      "<Response [200 OK]>\n"
     ]
    },
    {
     "name": "stderr",
     "output_type": "stream",
     "text": [
      " 29%|██▊       | 4/14 [01:07<03:01, 18.17s/it]"
     ]
    },
    {
     "name": "stdout",
     "output_type": "stream",
     "text": [
      "<Response [200 OK]>\n"
     ]
    },
    {
     "name": "stderr",
     "output_type": "stream",
     "text": [
      " 36%|███▌      | 5/14 [01:35<03:17, 21.92s/it]"
     ]
    },
    {
     "name": "stdout",
     "output_type": "stream",
     "text": [
      "<Response [200 OK]>\n"
     ]
    },
    {
     "name": "stderr",
     "output_type": "stream",
     "text": [
      " 43%|████▎     | 6/14 [02:02<03:10, 23.76s/it]"
     ]
    },
    {
     "name": "stdout",
     "output_type": "stream",
     "text": [
      "<Response [200 OK]>\n"
     ]
    },
    {
     "name": "stderr",
     "output_type": "stream",
     "text": [
      " 50%|█████     | 7/14 [02:15<02:20, 20.04s/it]"
     ]
    },
    {
     "name": "stdout",
     "output_type": "stream",
     "text": [
      "<Response [200 OK]>\n"
     ]
    },
    {
     "name": "stderr",
     "output_type": "stream",
     "text": [
      " 57%|█████▋    | 8/14 [02:51<02:30, 25.10s/it]"
     ]
    },
    {
     "name": "stdout",
     "output_type": "stream",
     "text": [
      "<Response [200 OK]>\n"
     ]
    },
    {
     "name": "stderr",
     "output_type": "stream",
     "text": [
      " 64%|██████▍   | 9/14 [03:09<01:54, 22.90s/it]"
     ]
    },
    {
     "name": "stdout",
     "output_type": "stream",
     "text": [
      "<Response [200 OK]>\n"
     ]
    },
    {
     "name": "stderr",
     "output_type": "stream",
     "text": [
      " 71%|███████▏  | 10/14 [03:32<01:32, 23.01s/it]"
     ]
    },
    {
     "name": "stdout",
     "output_type": "stream",
     "text": [
      "<Response [200 OK]>\n"
     ]
    },
    {
     "name": "stderr",
     "output_type": "stream",
     "text": [
      " 79%|███████▊  | 11/14 [03:53<01:07, 22.45s/it]"
     ]
    },
    {
     "name": "stdout",
     "output_type": "stream",
     "text": [
      "<Response [200 OK]>\n"
     ]
    },
    {
     "name": "stderr",
     "output_type": "stream",
     "text": [
      " 86%|████████▌ | 12/14 [04:11<00:41, 20.89s/it]"
     ]
    },
    {
     "name": "stdout",
     "output_type": "stream",
     "text": [
      "<Response [200 OK]>\n"
     ]
    },
    {
     "name": "stderr",
     "output_type": "stream",
     "text": [
      " 93%|█████████▎| 13/14 [04:31<00:20, 20.66s/it]"
     ]
    },
    {
     "name": "stdout",
     "output_type": "stream",
     "text": [
      "<Response [200 OK]>\n"
     ]
    },
    {
     "name": "stderr",
     "output_type": "stream",
     "text": [
      "100%|██████████| 14/14 [04:46<00:00, 20.47s/it]\n"
     ]
    }
   ],
   "source": [
    "#检索数据库，为每个query的检索结果写限字300的总结。最后把几个总结都append到top_results里\n",
    "top_results=[]\n",
    "for query in tqdm(queries['queries']):\n",
    "    retrieved_results=cos_collection.query(\n",
    "        query_texts=query,\n",
    "        n_results=10\n",
    "    )\n",
    "    retrieved_documents=retrieved_results['documents'][0]\n",
    "    pairs = {'query':query,'passages':retrieved_documents}\n",
    "    rerank_results = rerank(pairs)\n",
    "    ANSWER_INPUT = f\"\"\"\n",
    "    Today's date is {today}.\n",
    "    Generate an summary in Mandarin to the user's question based on the given search results. All statements must be supported by sources of information。\n",
    "    TOP_RESULTS: {retrieved_documents}\n",
    "    USER_QUESTION: {query}\n",
    "\n",
    "    contain the length of this aummary within 200 words. \n",
    "    \"\"\"\n",
    "    messages=[{\"role\": \"user\", \"content\": ANSWER_INPUT}]\n",
    "    completion = llm.invoke(\n",
    "        messages\n",
    "    )\n",
    "    answer=completion.content\n",
    "\n",
    "    top_results.append(answer)"
   ]
  },
  {
   "cell_type": "code",
   "execution_count": 49,
   "metadata": {},
   "outputs": [
    {
     "name": "stdout",
     "output_type": "stream",
     "text": [
      "['2022年NBA总冠军是金州勇士队，他们在总决赛中以4:2的总比分战胜了凯尔特人队。这一结果标志着勇士队连续第三年进入总决赛，并成功夺回总冠军。在总决赛中，库里表现出色，场均贡献26.8分、8个篮板和9.4次助攻，帮助勇士队取得了关键胜利。整个总决赛中，库里场均贡献27.5分、6个篮板和6.1次助攻，连续第五年入选全明星和年度最佳阵容第三队。', '根据您提供的搜索结果，最近的NBA总决赛最有价值球员是尼古拉·约基奇（Nikola Jokic）。他在2021-22赛季与丹佛掘金队一起赢得了NBA总冠军。此外，他还获得了2023-24赛季的Kia NBA年度最有价值球员奖。他是历史上获得这一奖项最年轻的球员之一。同时，我们还了解到Stephen Curry也是一位非常出色的球员，他曾与其他球员一起赢得了四个NBA总冠军和两个Kia MVP奖项。', '根据搜索结果，NBA总决赛最后一场比赛的细节如下：在2016年NBA总决赛的第七场比赛中，克里夫兰骑士队以96比89战胜金州勇士队，赢得了他们的第一个NBA冠军。在这场比赛中，勒布朗·詹姆斯（LeBron James）在第三节末端抢下了一个关键的篮板球，并在比赛还有不到两分钟时封盖了安德烈·伊戈达拉（Andre Iguodala）的投篮，帮助克里夫兰队领先。最终，克里夫兰队以31-9的比分赢得了这场比赛，并结束了他们52年的冠军干旱。', '在2019年的NBA总决赛中，史蒂芬·库里表现出色，带领金州勇士队争夺总冠军。库里在总决赛中场均贡献26.8分、8个篮板和9.4次助攻，准三双的数据为球队带来强大的战斗力。在西部决赛面对独行侠的比赛中，库里独揽40分，帮助勇士完成了25分的大逆转。在总决赛第四场中，他又轰下36分，率领勇士4-0淘汰对手，从而以4-0的总比分横扫对手，夺得四年内的第三座总冠军奖杯。在整个总决赛中，库里场均贡献27.5分、6个篮板和6.3次助攻，连续第五年入选全明星和年度最佳阵容第三队。', '史蒂芬·库里（Stephen Curry）是一位美国职业篮球运动员，司职得分后卫，现效力于NBA金州勇士队。库里被认为是当代篮球界最具天赋的球员之一，多次获得NBA常规赛和总决赛的最有价值球员奖项。根据用户问题，我们找到了关于库里在总决赛中的平均数据。\\n\\n在2017-18赛季的NBA总决赛中，库里场均贡献26.8分、8个篮板和9.4次助攻，这是他职业生涯第二次进入总决赛。在之前的总决赛中，库里在2015-16赛季 average 22.3 points, 5.4 rebounds and 6.3 assists per game。\\n\\n在2017-18赛季的总决赛中，库里表现出色，带领勇士队赢得总冠军。在整个总决赛中，库里场均贡献27.5分、6个篮板和6.3次助攻。这次胜利使库里成为NBA历史上第四位在总决赛中取得四连冠的球员，同时他也成为了NBA总决赛历史上平均数据最高的球员（26.5分、7.8篮板和7.5助攻）。', '史蒂芬·库里是一位美国职业篮球运动员，出生于1988年3月14日，身高188厘米，体重84公斤， native of Akron, Ohio。他在2009年被金州勇士队选中，成为NBA历史上最出色的控球后卫之一。库里曾多次获得NBA总冠军、NBA常规赛MVP、NBA全明星赛MVP等荣誉，并且曾被评为NBA历史三分王。此外，他还积极参与社会责任，多次捐赠慈善机构，并且担任过美国男篮队员，参加过多项国际比赛并获得优异成绩。', '史蒂芬·库里在比赛最后时刻流泪的原因是因为他错失了一个关键的投篮机会，导致比赛最终失利。这个投篮机会对勇士队的胜利至关重要，因此库里感到非常失望和难过。尽管他在比赛中表现出色，但最终未能为球队带来胜利让库里感到非常悲伤。', '史蒂芬·库里是美国职业篮球运动员，出生于1988年3月14日。他是金州勇士队的球员，曾在2009年至2010年期间效力于NBA。他的身高为188厘米，体重为84公斤。库里在大学时期效力于戴维森学院，并在那里获得了更多关于篮球的知识和技能。他在2009年NBA选秀中被金州勇士队选中，从此开始了他的NBA生涯。在为勇士效力的过程中，他与许多著名球员成为了队友，包括克莱·汤普森、德雷蒙德·格林等。', '史蒂芬·库里是一位美国职业篮球运动员，他在职业生涯中取得了许多荣誉。根据搜索结果，库里曾两次获得NBA总冠军，并在2021-22赛季当选总决赛MVP。他还曾多次获得NBA常规赛MVP和得分王称号，并且四次入选NBA最佳阵容。此外，库里还曾荣获过“魔术师约翰逊”奖等荣誉。他在国家队方面也有出色表现，曾代表美国男篮获得土耳其世锦赛冠军和西班牙篮球世界杯冠军。', '史蒂芬·库里在总决赛中的关键时刻是在系列赛第三场中，他独得47分、10个篮板和4次助攻，帮助勇士以107-97战胜法国，完成25分的大逆转。在这场比赛中，库里展现出了出色的表现，他在关键时刻挺身而出，带领勇士队赢得比赛，最终帮助勇士队以4-1的总比分复仇，重夺总冠军。', '史蒂芬·库里在总决赛中的投篮表现非常出色。在总决赛中，库里场均贡献26.8分、8个篮板和9.4次助攻的准三双数据。在系列赛的第二场中，库里拿到个人季后赛生涯的首个三双——32分、10个篮板和11次助攻。在决定性的第五场中，库里砍下贡献34分、6个篮板和10次助攻，帮助勇士以4-1的总比分成功复仇，重夺总冠军。在整个总决赛中，库里场均贡献27.5分、6个篮板和6次助攻，连续第五年入选全明星和年度最佳阵容第三队。', '史蒂芬·库里在总决赛中的篮板表现非常出色。在总决赛第四场中，他独自拿下了10个篮板，此外，他还取得了4次助攻和33分的高光表现。这使得库里在总决赛期间平均每场可以拿到23.3分、10.3个篮板和7次助攻。他的表现对于勇士来说至关重要，尤其是在与凯尔特人队的系列赛中，库里在篮板方面表现突出，帮助勇士队以4:2的总比分晋级分区决赛。', '史蒂芬·库里在总决赛中的表现非常出色。在总决赛中，库里场均贡献26.8分、8个篮板和9.4次助攻的准三双数据。在系列赛的第二场中，库里拿到个人季后赛生涯的首个三双——32分、10个篮板和11次助攻。在决定性的第五场中，库里砍下贡献34分、6个篮板和10次助攻，帮助勇士以4-1的总比分成功复仇，重夺总冠军。在整个总决赛中，库里展现出了更为出色的表现，成为了总决赛历史上 assist 总数最多的球员之一。', '史蒂芬·库里在总决赛中的三分球表现非常出色。在总决赛第二场和第四场比赛中，他分别投进9个和12个三分球，成为历史上首位在总决赛中连续投进两个以上三分球的球员。此外，庫里在总决赛的平均每場貢獻31分、8個篮板和4次助攻，幫助勇士隊取得了最終的勝利。']\n"
     ]
    }
   ],
   "source": [
    "print(top_results)"
   ]
  },
  {
   "cell_type": "code",
   "execution_count": 75,
   "metadata": {},
   "outputs": [],
   "source": [
    "ANSWER_INPUT = f\"\"\"\n",
    "今天日期 {today}。\n",
    "理解{queries['queries']}中的用户提问，明白用户想了解什么，生成一篇短文的简短提纲。开头用一个最吸引人的事实作为导语，正文陈述细节，内容不要与前文重复，结尾总结所有事实。\n",
    "\"\"\"\n",
    "messages=[{\"role\": \"user\", \"content\": ANSWER_INPUT}]\n",
    "completion = llm.invoke(\n",
    "    messages\n",
    ")\n",
    "outline=completion.content"
   ]
  },
  {
   "cell_type": "code",
   "execution_count": 76,
   "metadata": {},
   "outputs": [
    {
     "name": "stdout",
     "output_type": "stream",
     "text": [
      "一、引言\n",
      "1. 2022年NBA总决赛已经结束，金州勇士队以4:2战胜了波士顿凯尔特人队，获得了最新的NBA总冠军。\n",
      "\n",
      "二、史蒂芬·库里在总决赛的表现\n",
      "1. 在总决赛中，史蒂芬·库里发挥出色，成为了球队的关键人物。\n",
      "2. 库里在总决赛的平均数据为27分、6板和5助攻，展现出了他的全面实力。\n",
      "3. 特别是在关键的第五场比赛中，库里拿下了43分，帮助勇士队赢得比赛，巩固了他在总决赛中的地位。\n",
      "\n",
      "三、史蒂芬·库里的关键时刻表现\n",
      "1. 在总决赛的第四场比赛中，库里在比赛最后时刻成功抢断，并绝杀得分，帮助勇士队获得胜利。\n",
      "2. 库里在总决赛的投篮表现也非常出色，命中了许多关键的三分球。\n",
      "\n",
      "四、史蒂芬·库里的团队支持\n",
      "1. 史蒂芬·库里在勇士队的队友们也表现出色，提供了很多支持，使得库里在总决赛中能够发挥出最佳水平。\n",
      "\n",
      "五、史蒂芬·库里的荣誉\n",
      "1. 史蒂芬·库里在职业生涯中已经获得了许多荣誉，包括两次NBA总冠军和一次常规赛MVP。\n",
      "\n",
      "六、结语\n",
      "总的来说，史蒂芬·库里在2022年的NBA总决赛中表现出色，是勇士队夺冠的重要原因之一。他的全面实力和关键时刻的表现都让人印象深刻。\n"
     ]
    }
   ],
   "source": [
    "print(outline)"
   ]
  },
  {
   "cell_type": "code",
   "execution_count": 81,
   "metadata": {},
   "outputs": [],
   "source": [
    "ANSWER_INPUT = f\"\"\"\n",
    "今天日期 {today}。\n",
    "\n",
    "参考提纲，将摘要中的内容整合成一篇完整、连贯的短文，文中所有陈述必须有参考依据，不需要标题。\n",
    "提纲：{outline}\n",
    "摘要：{top_results}\n",
    "\"\"\"\n",
    "messages=[{\"role\": \"user\", \"content\": ANSWER_INPUT}]\n",
    "completion = llm.invoke(\n",
    "    messages\n",
    ")\n",
    "answer=completion.content"
   ]
  },
  {
   "cell_type": "code",
   "execution_count": 82,
   "metadata": {},
   "outputs": [
    {
     "name": "stdout",
     "output_type": "stream",
     "text": [
      "2022年NBA总决赛已经结束，金州勇士队以4:2战胜了波士顿凯尔特人队，获得了最新的NBA总冠军。其中，史蒂芬·库里在总决赛中发挥出色，成为了球队的关键人物。库里在总决赛的平均数据为27分、6板和5助攻，展现出了他的全面实力。特别是在关键的第五场比赛中，库里拿下了43分，帮助勇士队赢得比赛，巩固了他在总决赛中的地位。\n",
      "\n",
      "在总决赛的第四场比赛中，库里在比赛最后时刻成功抢断，并绝杀得分，帮助勇士队获得胜利。库里在总决赛的投篮表现也非常出色，命中了许多关键的三分球。这些表现让人印象深刻，同时也展示了史蒂芬·库里在关键时刻的能力和全面实力。\n",
      "\n",
      "值得一提的是，史蒂芬·库里在职业生涯中已经获得了许多荣誉，包括两次NBA总冠军和一次常规赛MVP。他的全面实力和关键时刻的表现都让人印象深刻。在2019年的NBA总决赛中，库里表现出色，带领金州勇士队争夺总冠军。整个总决赛中，库里场均贡献27.5分、6个篮板和6.3次助攻，连续第五年入选全明星和年度最佳阵容第三队。\n",
      "\n",
      "此外，史蒂芬·库里在比赛最后时刻流泪的原因是因为他错失了一个关键的投篮机会，导致比赛最终失利。这个投篮机会对勇士队的胜利至关重要，因此库里感到非常失望和难过。尽管他在比赛中表现出色，但最终未能为球队带来胜利让库里感到非常悲伤。\n",
      "\n",
      "综上所述，史蒂芬·库里在2022年的NBA总决赛中表现出色，是勇士队夺冠的重要原因之一。他的全面实力和关键时刻的表现都让人印象深刻。\n"
     ]
    }
   ],
   "source": [
    "print(answer)"
   ]
  }
 ],
 "metadata": {
  "kernelspec": {
   "display_name": "base",
   "language": "python",
   "name": "python3"
  },
  "language_info": {
   "codemirror_mode": {
    "name": "ipython",
    "version": 3
   },
   "file_extension": ".py",
   "mimetype": "text/x-python",
   "name": "python",
   "nbconvert_exporter": "python",
   "pygments_lexer": "ipython3",
   "version": "3.11.4"
  }
 },
 "nbformat": 4,
 "nbformat_minor": 2
}
